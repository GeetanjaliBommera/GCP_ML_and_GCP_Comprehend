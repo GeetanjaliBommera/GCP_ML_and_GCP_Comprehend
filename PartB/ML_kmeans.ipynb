{
 "cells": [
  {
   "cell_type": "code",
   "execution_count": 220,
   "id": "0c4acc0d-0d2e-4f00-b2a1-3821818f2646",
   "metadata": {},
   "outputs": [],
   "source": [
    "from google.cloud import storage\n",
    "import requests\n",
    "import numpy\n",
    "import json\n",
    "import pandas as pd"
   ]
  },
  {
   "cell_type": "code",
   "execution_count": 221,
   "id": "e3bbd82a-d2f8-481e-924f-8b869d3e296b",
   "metadata": {},
   "outputs": [],
   "source": [
    "bucket_name = \"testdatab00881511\"\n",
    "storage_client = storage.Client()\n",
    "# blobs = storage_client.list_blobs(bucket_name)\n",
    "bucket = storage_client.bucket(bucket_name)\n",
    "blob = bucket.blob('testVector.csv')\n",
    "blob.download_to_filename('test.csv')\n",
    "test = pd.read_csv(\"test.csv\")"
   ]
  },
  {
   "cell_type": "code",
   "execution_count": 222,
   "id": "cfc703d7-02be-49e3-8884-58ec987734ca",
   "metadata": {},
   "outputs": [],
   "source": [
    "bucket_name = \"traindatab00881511\"\n",
    "storage_client = storage.Client()\n",
    "bucket = storage_client.bucket(bucket_name)\n",
    "blob = bucket.blob('trainVector.csv')\n",
    "blob.download_to_filename('train.csv')"
   ]
  },
  {
   "cell_type": "code",
   "execution_count": 223,
   "id": "0f566628-11c2-4e34-81a7-6513375441ba",
   "metadata": {},
   "outputs": [],
   "source": [
    "train = pd.read_csv(\"train.csv\")\n",
    "n = 1\n",
    "train = train[n:]\n",
    "test = test[n:]"
   ]
  },
  {
   "cell_type": "code",
   "execution_count": 224,
   "id": "42abeef4-b14d-4361-b9ee-a9c3ad790f68",
   "metadata": {},
   "outputs": [
    {
     "data": {
      "text/plain": [
       "array([1, 1, 1, ..., 2, 2, 2], dtype=int32)"
      ]
     },
     "execution_count": 224,
     "metadata": {},
     "output_type": "execute_result"
    }
   ],
   "source": [
    "from sklearn.cluster import KMeans\n",
    "km = KMeans(n_clusters=3, random_state=42)\n",
    "temp = train.drop(['firstword','nextword'],axis =1)\n",
    "km.fit(temp)\n",
    "train['labels'] = km.labels_\n",
    "temp1 = test.drop(['firstword','nextword'],axis =1)\n",
    "km.predict(temp1)\n"
   ]
  },
  {
   "cell_type": "code",
   "execution_count": 225,
   "id": "a25fb2dd-f892-45ac-8d43-e8954216db2d",
   "metadata": {},
   "outputs": [
    {
     "data": {
      "text/plain": [
       "array([[3.70020000e+04, 6.79256012e+00],\n",
       "       [7.46900000e+03, 6.81321551e+00],\n",
       "       [2.23205000e+04, 6.76689693e+00]])"
      ]
     },
     "execution_count": 225,
     "metadata": {},
     "output_type": "execute_result"
    }
   ],
   "source": [
    "# centroids\n",
    "km.cluster_centers_"
   ]
  },
  {
   "cell_type": "code",
   "execution_count": 226,
   "id": "13049b4a-1436-4271-bdbf-ad2298f71946",
   "metadata": {},
   "outputs": [
    {
     "name": "stdout",
     "output_type": "stream",
     "text": [
      "   Unnamed: 0  distance\n",
      "1           1       5.0\n",
      "2           2       4.0\n",
      "3           3       5.0\n",
      "4           4       4.0\n",
      "5           5       5.0\n"
     ]
    }
   ],
   "source": [
    "print(temp1.head())"
   ]
  },
  {
   "cell_type": "code",
   "execution_count": 227,
   "id": "e9489dc6-4360-4af4-aed0-063408f17a10",
   "metadata": {},
   "outputs": [
    {
     "name": "stdout",
     "output_type": "stream",
     "text": [
      "Train Instances in cluster 1:  14639\n",
      "Train Instances in cluster 2:  14894\n",
      "Train Instances in cluster 3:  14767\n"
     ]
    }
   ],
   "source": [
    "filtered_label2 = train.loc[train['labels'] == 1]\n",
    "# train[['labels'] == 1]\n",
    "print(\"Train Instances in cluster 1: \",len(train.loc[train['labels'] == 0]))\n",
    "print(\"Train Instances in cluster 2: \",len(train.loc[train['labels'] == 1]))\n",
    "print(\"Train Instances in cluster 3: \",len(train.loc[train['labels'] == 2]))\n"
   ]
  },
  {
   "cell_type": "code",
   "execution_count": 228,
   "id": "035015da-e7ed-477a-93cb-ec8b0512fd29",
   "metadata": {},
   "outputs": [
    {
     "name": "stdout",
     "output_type": "stream",
     "text": [
      "   Unnamed: 0 firstword nextword  distance\n",
      "1           1      Chip    maker       5.0\n",
      "2           2     maker    backs       4.0\n",
      "3           3     backs      net       5.0\n",
      "4           4       net    phone       4.0\n",
      "5           5     phone    calls       5.0\n"
     ]
    }
   ],
   "source": [
    "print(test.head())"
   ]
  },
  {
   "cell_type": "code",
   "execution_count": null,
   "id": "3e0eab3d-e18e-46e3-b856-e2a7a3f1d766",
   "metadata": {},
   "outputs": [],
   "source": []
  }
 ],
 "metadata": {
  "environment": {
   "kernel": "python3",
   "name": "common-cpu.m84",
   "type": "gcloud",
   "uri": "gcr.io/deeplearning-platform-release/base-cpu:m84"
  },
  "kernelspec": {
   "display_name": "Python 3",
   "language": "python",
   "name": "python3"
  },
  "language_info": {
   "codemirror_mode": {
    "name": "ipython",
    "version": 3
   },
   "file_extension": ".py",
   "mimetype": "text/x-python",
   "name": "python",
   "nbconvert_exporter": "python",
   "pygments_lexer": "ipython3",
   "version": "3.7.12"
  }
 },
 "nbformat": 4,
 "nbformat_minor": 5
}
